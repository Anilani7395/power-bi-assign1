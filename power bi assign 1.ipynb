{
 "cells": [
  {
   "cell_type": "markdown",
   "id": "5b8ebc59",
   "metadata": {},
   "source": [
    "1)bi is a technology that comnerts raw data into meaningfull information.\n",
    "bi tools perform data analysis and create reports maps charts with detailed information about the business"
   ]
  },
  {
   "cell_type": "markdown",
   "id": "ed8d26db",
   "metadata": {},
   "source": [
    "2)it helps to clean data and visualise the data.it clean data and transforms data into meaningful data.\n",
    "it helps the analysts as follows:-\n",
    "#massive amount of data will be available\n",
    "#accuarate in tracking the things\n",
    "#can campare with old data and present data"
   ]
  },
  {
   "cell_type": "markdown",
   "id": "83236e88",
   "metadata": {},
   "source": [
    "3)the usage of current and historical data to identify trends and relationships is called as descrptive analytics"
   ]
  },
  {
   "cell_type": "markdown",
   "id": "bf435dcc",
   "metadata": {},
   "source": [
    "4)it is the use of data to predict future trends and events .it uses historical data to forecast the future\n",
    "predictions.the predictions can be for near future"
   ]
  },
  {
   "cell_type": "markdown",
   "id": "f6688c1c",
   "metadata": {},
   "source": [
    "5)it is a form of data analytics that used to answer that what should happen next.it also predicts that why it will happen"
   ]
  }
 ],
 "metadata": {
  "kernelspec": {
   "display_name": "Python 3 (ipykernel)",
   "language": "python",
   "name": "python3"
  },
  "language_info": {
   "codemirror_mode": {
    "name": "ipython",
    "version": 3
   },
   "file_extension": ".py",
   "mimetype": "text/x-python",
   "name": "python",
   "nbconvert_exporter": "python",
   "pygments_lexer": "ipython3",
   "version": "3.9.12"
  }
 },
 "nbformat": 4,
 "nbformat_minor": 5
}
